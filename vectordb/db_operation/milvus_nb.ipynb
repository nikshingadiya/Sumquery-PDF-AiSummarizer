{
 "cells": [
  {
   "cell_type": "code",
   "execution_count": 1,
   "metadata": {},
   "outputs": [],
   "source": [
    "from pymilvus import (\n",
    "    connections,\n",
    "    utility,\n",
    "    FieldSchema,\n",
    "    CollectionSchema,\n",
    "    DataType,\n",
    "    Collection,\n",
    ")\n",
    "from langchain.embeddings.huggingface import HuggingFaceEmbeddings\n",
    "from pymilvus import connections, utility\n",
    "import random \n",
    "import time\n"
   ]
  },
  {
   "cell_type": "code",
   "execution_count": 48,
   "metadata": {},
   "outputs": [],
   "source": [
    "\n",
    "from pymilvus import MilvusClient\n",
    "\n",
    "uri = \"https://in03-7ec3187cc8dad66.api.gcp-us-west1.zillizcloud.com\"\n",
    "token = \"971ba193222173e7b54cc937f5834d2bba7ecd27f800ee14facc1af243ec755e8a10be4ca9cd504444c515345c141b8eb7e791c4\"\n",
    "client = MilvusClient(\n",
    "    uri=uri, # Cluster endpoint obtained from the console\n",
    "    token=token\n",
    ")"
   ]
  },
  {
   "cell_type": "code",
   "execution_count": null,
   "metadata": {},
   "outputs": [],
   "source": []
  },
  {
   "cell_type": "code",
   "execution_count": 12,
   "metadata": {},
   "outputs": [
    {
     "name": "stdout",
     "output_type": "stream",
     "text": [
      "Connecting to DB: https://in03-7ec3187cc8dad66.api.gcp-us-west1.zillizcloud.com\n",
      "Schema: {'auto_id': True, 'description': 'Nikhil', 'fields': [{'name': 'pk', 'description': '', 'type': <DataType.INT64: 5>, 'is_primary': True, 'auto_id': True}, {'name': 'text', 'description': '', 'type': <DataType.VARCHAR: 21>, 'params': {'max_length': 4096}}, {'name': 'vector_embeddings', 'description': '', 'type': <DataType.FLOAT_VECTOR: 101>, 'params': {'dim': 768}}]}\n",
      "Success!\n",
      "Collection name: PDF_Vector\n"
     ]
    }
   ],
   "source": [
    "from pymilvus import Milvus, DataType, CollectionSchema, FieldSchema\n",
    "\n",
    "\n",
    "# Create a Milvus client instance\n",
    "\n",
    "from pymilvus import MilvusClient,connections, utility\n",
    "\n",
    "uri = \"https://in03-7ec3187cc8dad66.api.gcp-us-west1.zillizcloud.com\"\n",
    "token = \"971ba193222173e7b54cc937f5834d2bba7ecd27f800ee14facc1af243ec755e8a10be4ca9cd504444c515345c141b8eb7e791c4\"\n",
    "\n",
    "\n",
    "connections.connect(\n",
    "    uri=uri, # Cluster endpoint obtained from the console\n",
    "    token=token\n",
    ")\n",
    "print(f\"Connecting to DB: {uri}\")\n",
    "\n",
    "\n",
    "\n",
    "# Define your Milvus collection name and dimension\n",
    "MILVUS_COLLECTION_NAME = \"PDF_Vector\"\n",
    "VECTOR_DIMENSION = 768  # Change this to the dimension of your vectors\n",
    "\n",
    "# Define the collection schema as a list of FieldSchema objects\n",
    "fields = [\n",
    "    FieldSchema(name=\"pk\", dtype=DataType.INT64, is_primary=True, auto_id=True),\n",
    "    FieldSchema(name=\"text\", dtype=DataType.VARCHAR,max_length=4096),  # Assuming text data\n",
    "    FieldSchema(name=\"vector_embeddings\", dtype=DataType.FLOAT_VECTOR, dim=VECTOR_DIMENSION),\n",
    "]\n",
    "\n",
    "# Create the collection with the specified schema\n",
    "schema = CollectionSchema(fields=fields, description=\"Nikhil\")\n",
    "collection = Collection(name=MILVUS_COLLECTION_NAME, schema=schema)\n",
    "print(f\"Schema: {schema}\")\n",
    "print(\"Success!\")\n",
    "\n",
    "# Print the collection information\n",
    "print(f\"Collection name: {collection.name}\")\n",
    "# print(f\"Collection dimension: {collection.dimension}\")\n"
   ]
  },
  {
   "cell_type": "code",
   "execution_count": 20,
   "metadata": {},
   "outputs": [],
   "source": [
    "connections.disconnect(\"defalut\")"
   ]
  },
  {
   "cell_type": "code",
   "execution_count": null,
   "metadata": {},
   "outputs": [],
   "source": []
  }
 ],
 "metadata": {
  "kernelspec": {
   "display_name": "venv",
   "language": "python",
   "name": "python3"
  },
  "language_info": {
   "codemirror_mode": {
    "name": "ipython",
    "version": 3
   },
   "file_extension": ".py",
   "mimetype": "text/x-python",
   "name": "python",
   "nbconvert_exporter": "python",
   "pygments_lexer": "ipython3",
   "version": "3.8.10"
  }
 },
 "nbformat": 4,
 "nbformat_minor": 2
}
