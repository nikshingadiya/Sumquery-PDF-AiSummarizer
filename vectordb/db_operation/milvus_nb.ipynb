{
 "cells": [
  {
   "cell_type": "code",
   "execution_count": 1,
   "metadata": {},
   "outputs": [],
   "source": [
    "from pymilvus import (\n",
    "    connections,\n",
    "    utility,\n",
    "    FieldSchema,\n",
    "    CollectionSchema,\n",
    "    DataType,\n",
    "    Collection,\n",
    ")\n",
    "from langchain.embeddings.huggingface import HuggingFaceEmbeddings\n",
    "from pymilvus import connections, utility\n",
    "import random \n",
    "import time\n"
   ]
  },
  {
   "cell_type": "code",
   "execution_count": 2,
   "metadata": {},
   "outputs": [
    {
     "name": "stderr",
     "output_type": "stream",
     "text": [
      "\u001b[93m[__internal_register] retry:4, cost: 0.27s, reason: <_InactiveRpcError: StatusCode.UNKNOWN, Cluster not exist or you don't have permission.>\u001b[0m\n",
      "\u001b[93m[__internal_register] retry:5, cost: 0.81s, reason: <_InactiveRpcError: StatusCode.UNKNOWN, Cluster not exist or you don't have permission.>\u001b[0m\n",
      "\u001b[93m[__internal_register] retry:6, cost: 2.43s, reason: <_InactiveRpcError: StatusCode.UNKNOWN, Cluster not exist or you don't have permission.>\u001b[0m\n",
      "\u001b[93m[__internal_register] retry:7, cost: 3.00s, reason: <_InactiveRpcError: StatusCode.UNKNOWN, Cluster not exist or you don't have permission.>\u001b[0m\n",
      "\u001b[93m[__internal_register] retry:8, cost: 3.00s, reason: <_InactiveRpcError: StatusCode.UNKNOWN, Cluster not exist or you don't have permission.>\u001b[0m\n",
      "\u001b[93m[__internal_register] retry:9, cost: 3.00s, reason: <_InactiveRpcError: StatusCode.UNKNOWN, Cluster not exist or you don't have permission.>\u001b[0m\n"
     ]
    },
    {
     "ename": "KeyboardInterrupt",
     "evalue": "",
     "output_type": "error",
     "traceback": [
      "\u001b[0;31m---------------------------------------------------------------------------\u001b[0m",
      "\u001b[0;31mKeyboardInterrupt\u001b[0m                         Traceback (most recent call last)",
      "\u001b[1;32m/home/nikhil/Documents/Github/Sumquery-PDF-AiSummarizer/vectordb/db_operation/milvus_nb.ipynb Cell 2\u001b[0m line \u001b[0;36m5\n\u001b[1;32m      <a href='vscode-notebook-cell:/home/nikhil/Documents/Github/Sumquery-PDF-AiSummarizer/vectordb/db_operation/milvus_nb.ipynb#W1sZmlsZQ%3D%3D?line=2'>3</a>\u001b[0m uri \u001b[39m=\u001b[39m \u001b[39m\"\u001b[39m\u001b[39mhttps://in03-7ec3187cc8dad66.api.gcp-us-west1.zillizcloud.com\u001b[39m\u001b[39m\"\u001b[39m\n\u001b[1;32m      <a href='vscode-notebook-cell:/home/nikhil/Documents/Github/Sumquery-PDF-AiSummarizer/vectordb/db_operation/milvus_nb.ipynb#W1sZmlsZQ%3D%3D?line=3'>4</a>\u001b[0m token \u001b[39m=\u001b[39m \u001b[39m\"\u001b[39m\u001b[39m971ba193222173e7b54cc937f5834d2bba7ecd27f800ee14facc1af243ec755e8a10be4ca9cd504444c515345c141b8eb7e791c4\u001b[39m\u001b[39m\"\u001b[39m\n\u001b[0;32m----> <a href='vscode-notebook-cell:/home/nikhil/Documents/Github/Sumquery-PDF-AiSummarizer/vectordb/db_operation/milvus_nb.ipynb#W1sZmlsZQ%3D%3D?line=4'>5</a>\u001b[0m client \u001b[39m=\u001b[39m MilvusClient(\n\u001b[1;32m      <a href='vscode-notebook-cell:/home/nikhil/Documents/Github/Sumquery-PDF-AiSummarizer/vectordb/db_operation/milvus_nb.ipynb#W1sZmlsZQ%3D%3D?line=5'>6</a>\u001b[0m     uri\u001b[39m=\u001b[39;49muri, \u001b[39m# Cluster endpoint obtained from the console\u001b[39;49;00m\n\u001b[1;32m      <a href='vscode-notebook-cell:/home/nikhil/Documents/Github/Sumquery-PDF-AiSummarizer/vectordb/db_operation/milvus_nb.ipynb#W1sZmlsZQ%3D%3D?line=6'>7</a>\u001b[0m     token\u001b[39m=\u001b[39;49mtoken\n\u001b[1;32m      <a href='vscode-notebook-cell:/home/nikhil/Documents/Github/Sumquery-PDF-AiSummarizer/vectordb/db_operation/milvus_nb.ipynb#W1sZmlsZQ%3D%3D?line=7'>8</a>\u001b[0m )\n",
      "File \u001b[0;32m~/Documents/Github/Sumquery-PDF-AiSummarizer/venv/lib/python3.8/site-packages/pymilvus/milvus_client/milvus_client.py:64\u001b[0m, in \u001b[0;36mMilvusClient.__init__\u001b[0;34m(self, uri, user, password, db_name, token, timeout, **kwargs)\u001b[0m\n\u001b[1;32m     60\u001b[0m \u001b[39mself\u001b[39m\u001b[39m.\u001b[39mconn \u001b[39m=\u001b[39m \u001b[39mNone\u001b[39;00m\n\u001b[1;32m     62\u001b[0m \u001b[39mself\u001b[39m\u001b[39m.\u001b[39mdefault_search_params \u001b[39m=\u001b[39m \u001b[39mNone\u001b[39;00m\n\u001b[0;32m---> 64\u001b[0m \u001b[39mself\u001b[39m\u001b[39m.\u001b[39m_using \u001b[39m=\u001b[39m \u001b[39mself\u001b[39;49m\u001b[39m.\u001b[39;49m_create_connection(uri, user, password, db_name, token, \u001b[39m*\u001b[39;49m\u001b[39m*\u001b[39;49mkwargs)\n\u001b[1;32m     65\u001b[0m \u001b[39mself\u001b[39m\u001b[39m.\u001b[39mis_self_hosted \u001b[39m=\u001b[39m \u001b[39mbool\u001b[39m(\n\u001b[1;32m     66\u001b[0m     utility\u001b[39m.\u001b[39mget_server_type(using\u001b[39m=\u001b[39m\u001b[39mself\u001b[39m\u001b[39m.\u001b[39m_using) \u001b[39m==\u001b[39m \u001b[39m\"\u001b[39m\u001b[39mmilvus\u001b[39m\u001b[39m\"\u001b[39m,\n\u001b[1;32m     67\u001b[0m )\n",
      "File \u001b[0;32m~/Documents/Github/Sumquery-PDF-AiSummarizer/venv/lib/python3.8/site-packages/pymilvus/milvus_client/milvus_client.py:545\u001b[0m, in \u001b[0;36mMilvusClient._create_connection\u001b[0;34m(self, uri, user, password, db_name, token, **kwargs)\u001b[0m\n\u001b[1;32m    543\u001b[0m using \u001b[39m=\u001b[39m uuid4()\u001b[39m.\u001b[39mhex\n\u001b[1;32m    544\u001b[0m \u001b[39mtry\u001b[39;00m:\n\u001b[0;32m--> 545\u001b[0m     connections\u001b[39m.\u001b[39;49mconnect(using, user, password, db_name, token, uri\u001b[39m=\u001b[39;49muri, \u001b[39m*\u001b[39;49m\u001b[39m*\u001b[39;49mkwargs)\n\u001b[1;32m    546\u001b[0m \u001b[39mexcept\u001b[39;00m \u001b[39mException\u001b[39;00m \u001b[39mas\u001b[39;00m ex:\n\u001b[1;32m    547\u001b[0m     logger\u001b[39m.\u001b[39merror(\u001b[39m\"\u001b[39m\u001b[39mFailed to create new connection using: \u001b[39m\u001b[39m%s\u001b[39;00m\u001b[39m\"\u001b[39m, using)\n",
      "File \u001b[0;32m~/Documents/Github/Sumquery-PDF-AiSummarizer/venv/lib/python3.8/site-packages/pymilvus/orm/connections.py:355\u001b[0m, in \u001b[0;36mConnections.connect\u001b[0;34m(self, alias, user, password, db_name, token, **kwargs)\u001b[0m\n\u001b[1;32m    352\u001b[0m         \u001b[39mif\u001b[39;00m parsed_uri\u001b[39m.\u001b[39mscheme \u001b[39m==\u001b[39m \u001b[39m\"\u001b[39m\u001b[39mhttps\u001b[39m\u001b[39m\"\u001b[39m:\n\u001b[1;32m    353\u001b[0m             kwargs[\u001b[39m\"\u001b[39m\u001b[39msecure\u001b[39m\u001b[39m\"\u001b[39m] \u001b[39m=\u001b[39m \u001b[39mTrue\u001b[39;00m\n\u001b[0;32m--> 355\u001b[0m     connect_milvus(\u001b[39m*\u001b[39;49m\u001b[39m*\u001b[39;49mkwargs, user\u001b[39m=\u001b[39;49muser, password\u001b[39m=\u001b[39;49mpassword, token\u001b[39m=\u001b[39;49mtoken, db_name\u001b[39m=\u001b[39;49mdb_name)\n\u001b[1;32m    356\u001b[0m     \u001b[39mreturn\u001b[39;00m\n\u001b[1;32m    358\u001b[0m \u001b[39m# 2nd Priority, connection configs from env\u001b[39;00m\n",
      "File \u001b[0;32m~/Documents/Github/Sumquery-PDF-AiSummarizer/venv/lib/python3.8/site-packages/pymilvus/orm/connections.py:302\u001b[0m, in \u001b[0;36mConnections.connect.<locals>.connect_milvus\u001b[0;34m(**kwargs)\u001b[0m\n\u001b[1;32m    299\u001b[0m t \u001b[39m=\u001b[39m kwargs\u001b[39m.\u001b[39mget(\u001b[39m\"\u001b[39m\u001b[39mtimeout\u001b[39m\u001b[39m\"\u001b[39m)\n\u001b[1;32m    300\u001b[0m timeout \u001b[39m=\u001b[39m t \u001b[39mif\u001b[39;00m \u001b[39misinstance\u001b[39m(t, (\u001b[39mint\u001b[39m, \u001b[39mfloat\u001b[39m)) \u001b[39melse\u001b[39;00m Config\u001b[39m.\u001b[39mMILVUS_CONN_TIMEOUT\n\u001b[0;32m--> 302\u001b[0m gh\u001b[39m.\u001b[39;49m_wait_for_channel_ready(timeout\u001b[39m=\u001b[39;49mtimeout)\n\u001b[1;32m    303\u001b[0m kwargs\u001b[39m.\u001b[39mpop(\u001b[39m\"\u001b[39m\u001b[39mpassword\u001b[39m\u001b[39m\"\u001b[39m)\n\u001b[1;32m    304\u001b[0m kwargs\u001b[39m.\u001b[39mpop(\u001b[39m\"\u001b[39m\u001b[39mtoken\u001b[39m\u001b[39m\"\u001b[39m, \u001b[39mNone\u001b[39;00m)\n",
      "File \u001b[0;32m~/Documents/Github/Sumquery-PDF-AiSummarizer/venv/lib/python3.8/site-packages/pymilvus/client/grpc_handler.py:132\u001b[0m, in \u001b[0;36mGrpcHandler._wait_for_channel_ready\u001b[0;34m(self, timeout)\u001b[0m\n\u001b[1;32m    130\u001b[0m \u001b[39mtry\u001b[39;00m:\n\u001b[1;32m    131\u001b[0m     grpc\u001b[39m.\u001b[39mchannel_ready_future(\u001b[39mself\u001b[39m\u001b[39m.\u001b[39m_channel)\u001b[39m.\u001b[39mresult(timeout\u001b[39m=\u001b[39mtimeout)\n\u001b[0;32m--> 132\u001b[0m     \u001b[39mself\u001b[39;49m\u001b[39m.\u001b[39;49m_setup_identifier_interceptor(\u001b[39mself\u001b[39;49m\u001b[39m.\u001b[39;49m_user)\n\u001b[1;32m    133\u001b[0m \u001b[39mexcept\u001b[39;00m grpc\u001b[39m.\u001b[39mFutureTimeoutError \u001b[39mas\u001b[39;00m e:\n\u001b[1;32m    134\u001b[0m     \u001b[39mraise\u001b[39;00m MilvusException(\n\u001b[1;32m    135\u001b[0m         code\u001b[39m=\u001b[39mStatus\u001b[39m.\u001b[39mCONNECT_FAILED,\n\u001b[1;32m    136\u001b[0m         message\u001b[39m=\u001b[39m\u001b[39mf\u001b[39m\u001b[39m\"\u001b[39m\u001b[39mFail connecting to server on \u001b[39m\u001b[39m{\u001b[39;00m\u001b[39mself\u001b[39m\u001b[39m.\u001b[39m_address\u001b[39m}\u001b[39;00m\u001b[39m. Timeout\u001b[39m\u001b[39m\"\u001b[39m,\n\u001b[1;32m    137\u001b[0m     ) \u001b[39mfrom\u001b[39;00m \u001b[39me\u001b[39;00m\n",
      "File \u001b[0;32m~/Documents/Github/Sumquery-PDF-AiSummarizer/venv/lib/python3.8/site-packages/pymilvus/client/grpc_handler.py:249\u001b[0m, in \u001b[0;36mGrpcHandler._setup_identifier_interceptor\u001b[0;34m(self, user)\u001b[0m\n\u001b[1;32m    247\u001b[0m \u001b[39mdef\u001b[39;00m \u001b[39m_setup_identifier_interceptor\u001b[39m(\u001b[39mself\u001b[39m, user: \u001b[39mstr\u001b[39m):\n\u001b[1;32m    248\u001b[0m     host \u001b[39m=\u001b[39m socket\u001b[39m.\u001b[39mgethostname()\n\u001b[0;32m--> 249\u001b[0m     \u001b[39mself\u001b[39m\u001b[39m.\u001b[39m_identifier \u001b[39m=\u001b[39m \u001b[39mself\u001b[39;49m\u001b[39m.\u001b[39;49m__internal_register(user, host)\n\u001b[1;32m    250\u001b[0m     \u001b[39mself\u001b[39m\u001b[39m.\u001b[39m_identifier_interceptor \u001b[39m=\u001b[39m interceptor\u001b[39m.\u001b[39mheader_adder_interceptor(\n\u001b[1;32m    251\u001b[0m         [\u001b[39m\"\u001b[39m\u001b[39midentifier\u001b[39m\u001b[39m\"\u001b[39m], [\u001b[39mstr\u001b[39m(\u001b[39mself\u001b[39m\u001b[39m.\u001b[39m_identifier)]\n\u001b[1;32m    252\u001b[0m     )\n\u001b[1;32m    253\u001b[0m     \u001b[39mself\u001b[39m\u001b[39m.\u001b[39m_final_channel \u001b[39m=\u001b[39m grpc\u001b[39m.\u001b[39mintercept_channel(\n\u001b[1;32m    254\u001b[0m         \u001b[39mself\u001b[39m\u001b[39m.\u001b[39m_final_channel, \u001b[39mself\u001b[39m\u001b[39m.\u001b[39m_identifier_interceptor\n\u001b[1;32m    255\u001b[0m     )\n",
      "File \u001b[0;32m~/Documents/Github/Sumquery-PDF-AiSummarizer/venv/lib/python3.8/site-packages/pymilvus/decorators.py:123\u001b[0m, in \u001b[0;36merror_handler.<locals>.wrapper.<locals>.handler\u001b[0;34m(*args, **kwargs)\u001b[0m\n\u001b[1;32m    121\u001b[0m \u001b[39mtry\u001b[39;00m:\n\u001b[1;32m    122\u001b[0m     record_dict[\u001b[39m\"\u001b[39m\u001b[39mRPC start\u001b[39m\u001b[39m\"\u001b[39m] \u001b[39m=\u001b[39m \u001b[39mstr\u001b[39m(datetime\u001b[39m.\u001b[39mdatetime\u001b[39m.\u001b[39mnow())\n\u001b[0;32m--> 123\u001b[0m     \u001b[39mreturn\u001b[39;00m func(\u001b[39m*\u001b[39;49margs, \u001b[39m*\u001b[39;49m\u001b[39m*\u001b[39;49mkwargs)\n\u001b[1;32m    124\u001b[0m \u001b[39mexcept\u001b[39;00m MilvusException \u001b[39mas\u001b[39;00m e:\n\u001b[1;32m    125\u001b[0m     record_dict[\u001b[39m\"\u001b[39m\u001b[39mRPC error\u001b[39m\u001b[39m\"\u001b[39m] \u001b[39m=\u001b[39m \u001b[39mstr\u001b[39m(datetime\u001b[39m.\u001b[39mdatetime\u001b[39m.\u001b[39mnow())\n",
      "File \u001b[0;32m~/Documents/Github/Sumquery-PDF-AiSummarizer/venv/lib/python3.8/site-packages/pymilvus/decorators.py:162\u001b[0m, in \u001b[0;36mtracing_request.<locals>.wrapper.<locals>.handler\u001b[0;34m(self, *args, **kwargs)\u001b[0m\n\u001b[1;32m    160\u001b[0m \u001b[39mif\u001b[39;00m req_id:\n\u001b[1;32m    161\u001b[0m     \u001b[39mself\u001b[39m\u001b[39m.\u001b[39mset_onetime_request_id(req_id)\n\u001b[0;32m--> 162\u001b[0m \u001b[39mreturn\u001b[39;00m func(\u001b[39mself\u001b[39;49m, \u001b[39m*\u001b[39;49margs, \u001b[39m*\u001b[39;49m\u001b[39m*\u001b[39;49mkwargs)\n",
      "File \u001b[0;32m~/Documents/Github/Sumquery-PDF-AiSummarizer/venv/lib/python3.8/site-packages/pymilvus/decorators.py:68\u001b[0m, in \u001b[0;36mretry_on_rpc_failure.<locals>.wrapper.<locals>.handler\u001b[0;34m(*args, **kwargs)\u001b[0m\n\u001b[1;32m     66\u001b[0m \u001b[39mwhile\u001b[39;00m \u001b[39mTrue\u001b[39;00m:\n\u001b[1;32m     67\u001b[0m     \u001b[39mtry\u001b[39;00m:\n\u001b[0;32m---> 68\u001b[0m         \u001b[39mreturn\u001b[39;00m func(\u001b[39m*\u001b[39;49margs, \u001b[39m*\u001b[39;49m\u001b[39m*\u001b[39;49mkwargs)\n\u001b[1;32m     69\u001b[0m     \u001b[39mexcept\u001b[39;00m grpc\u001b[39m.\u001b[39mRpcError \u001b[39mas\u001b[39;00m e:\n\u001b[1;32m     70\u001b[0m         \u001b[39m# Reference: https://grpc.github.io/grpc/python/grpc.html#grpc-status-code\u001b[39;00m\n\u001b[1;32m     71\u001b[0m         \u001b[39mif\u001b[39;00m e\u001b[39m.\u001b[39mcode() \u001b[39min\u001b[39;00m (\n\u001b[1;32m     72\u001b[0m             grpc\u001b[39m.\u001b[39mStatusCode\u001b[39m.\u001b[39mDEADLINE_EXCEEDED,\n\u001b[1;32m     73\u001b[0m             grpc\u001b[39m.\u001b[39mStatusCode\u001b[39m.\u001b[39mPERMISSION_DENIED,\n\u001b[0;32m   (...)\u001b[0m\n\u001b[1;32m     77\u001b[0m             grpc\u001b[39m.\u001b[39mStatusCode\u001b[39m.\u001b[39mRESOURCE_EXHAUSTED,\n\u001b[1;32m     78\u001b[0m         ):\n",
      "File \u001b[0;32m~/Documents/Github/Sumquery-PDF-AiSummarizer/venv/lib/python3.8/site-packages/pymilvus/decorators.py:192\u001b[0m, in \u001b[0;36mupgrade_reminder.<locals>.handler\u001b[0;34m(*args, **kwargs)\u001b[0m\n\u001b[1;32m    189\u001b[0m \u001b[39m@functools\u001b[39m\u001b[39m.\u001b[39mwraps(func)\n\u001b[1;32m    190\u001b[0m \u001b[39mdef\u001b[39;00m \u001b[39mhandler\u001b[39m(\u001b[39m*\u001b[39margs, \u001b[39m*\u001b[39m\u001b[39m*\u001b[39mkwargs):\n\u001b[1;32m    191\u001b[0m     \u001b[39mtry\u001b[39;00m:\n\u001b[0;32m--> 192\u001b[0m         \u001b[39mreturn\u001b[39;00m func(\u001b[39m*\u001b[39;49margs, \u001b[39m*\u001b[39;49m\u001b[39m*\u001b[39;49mkwargs)\n\u001b[1;32m    193\u001b[0m     \u001b[39mexcept\u001b[39;00m grpc\u001b[39m.\u001b[39mRpcError \u001b[39mas\u001b[39;00m e:\n\u001b[1;32m    194\u001b[0m         \u001b[39mif\u001b[39;00m e\u001b[39m.\u001b[39mcode() \u001b[39m==\u001b[39m grpc\u001b[39m.\u001b[39mStatusCode\u001b[39m.\u001b[39mUNIMPLEMENTED:\n",
      "File \u001b[0;32m~/Documents/Github/Sumquery-PDF-AiSummarizer/venv/lib/python3.8/site-packages/pymilvus/client/grpc_handler.py:1856\u001b[0m, in \u001b[0;36mGrpcHandler.__internal_register\u001b[0;34m(self, user, host)\u001b[0m\n\u001b[1;32m   1852\u001b[0m \u001b[39m@retry_on_rpc_failure\u001b[39m()\n\u001b[1;32m   1853\u001b[0m \u001b[39m@upgrade_reminder\u001b[39m\n\u001b[1;32m   1854\u001b[0m \u001b[39mdef\u001b[39;00m \u001b[39m__internal_register\u001b[39m(\u001b[39mself\u001b[39m, user: \u001b[39mstr\u001b[39m, host: \u001b[39mstr\u001b[39m) \u001b[39m-\u001b[39m\u001b[39m>\u001b[39m \u001b[39mint\u001b[39m:\n\u001b[1;32m   1855\u001b[0m     req \u001b[39m=\u001b[39m Prepare\u001b[39m.\u001b[39mregister_request(user, host)\n\u001b[0;32m-> 1856\u001b[0m     response \u001b[39m=\u001b[39m \u001b[39mself\u001b[39;49m\u001b[39m.\u001b[39;49m_stub\u001b[39m.\u001b[39;49mConnect(request\u001b[39m=\u001b[39;49mreq)\n\u001b[1;32m   1857\u001b[0m     \u001b[39mif\u001b[39;00m response\u001b[39m.\u001b[39mstatus\u001b[39m.\u001b[39merror_code \u001b[39m!=\u001b[39m common_pb2\u001b[39m.\u001b[39mSuccess:\n\u001b[1;32m   1858\u001b[0m         \u001b[39mraise\u001b[39;00m MilvusException(response\u001b[39m.\u001b[39mstatus\u001b[39m.\u001b[39merror_code, response\u001b[39m.\u001b[39mstatus\u001b[39m.\u001b[39mreason)\n",
      "File \u001b[0;32m~/Documents/Github/Sumquery-PDF-AiSummarizer/venv/lib/python3.8/site-packages/grpc/_interceptor.py:247\u001b[0m, in \u001b[0;36m_UnaryUnaryMultiCallable.__call__\u001b[0;34m(self, request, timeout, metadata, credentials, wait_for_ready, compression)\u001b[0m\n\u001b[1;32m    240\u001b[0m \u001b[39mdef\u001b[39;00m \u001b[39m__call__\u001b[39m(\u001b[39mself\u001b[39m,\n\u001b[1;32m    241\u001b[0m              request: Any,\n\u001b[1;32m    242\u001b[0m              timeout: Optional[\u001b[39mfloat\u001b[39m] \u001b[39m=\u001b[39m \u001b[39mNone\u001b[39;00m,\n\u001b[0;32m   (...)\u001b[0m\n\u001b[1;32m    245\u001b[0m              wait_for_ready: Optional[\u001b[39mbool\u001b[39m] \u001b[39m=\u001b[39m \u001b[39mNone\u001b[39;00m,\n\u001b[1;32m    246\u001b[0m              compression: Optional[grpc\u001b[39m.\u001b[39mCompression] \u001b[39m=\u001b[39m \u001b[39mNone\u001b[39;00m) \u001b[39m-\u001b[39m\u001b[39m>\u001b[39m Any:\n\u001b[0;32m--> 247\u001b[0m     response, ignored_call \u001b[39m=\u001b[39m \u001b[39mself\u001b[39;49m\u001b[39m.\u001b[39;49m_with_call(request,\n\u001b[1;32m    248\u001b[0m                                              timeout\u001b[39m=\u001b[39;49mtimeout,\n\u001b[1;32m    249\u001b[0m                                              metadata\u001b[39m=\u001b[39;49mmetadata,\n\u001b[1;32m    250\u001b[0m                                              credentials\u001b[39m=\u001b[39;49mcredentials,\n\u001b[1;32m    251\u001b[0m                                              wait_for_ready\u001b[39m=\u001b[39;49mwait_for_ready,\n\u001b[1;32m    252\u001b[0m                                              compression\u001b[39m=\u001b[39;49mcompression)\n\u001b[1;32m    253\u001b[0m     \u001b[39mreturn\u001b[39;00m response\n",
      "File \u001b[0;32m~/Documents/Github/Sumquery-PDF-AiSummarizer/venv/lib/python3.8/site-packages/grpc/_interceptor.py:287\u001b[0m, in \u001b[0;36m_UnaryUnaryMultiCallable._with_call\u001b[0;34m(self, request, timeout, metadata, credentials, wait_for_ready, compression)\u001b[0m\n\u001b[1;32m    284\u001b[0m     \u001b[39mexcept\u001b[39;00m \u001b[39mException\u001b[39;00m \u001b[39mas\u001b[39;00m exception:  \u001b[39m# pylint:disable=broad-except\u001b[39;00m\n\u001b[1;32m    285\u001b[0m         \u001b[39mreturn\u001b[39;00m _FailureOutcome(exception, sys\u001b[39m.\u001b[39mexc_info()[\u001b[39m2\u001b[39m])\n\u001b[0;32m--> 287\u001b[0m call \u001b[39m=\u001b[39m \u001b[39mself\u001b[39;49m\u001b[39m.\u001b[39;49m_interceptor\u001b[39m.\u001b[39;49mintercept_unary_unary(continuation,\n\u001b[1;32m    288\u001b[0m                                                client_call_details,\n\u001b[1;32m    289\u001b[0m                                                request)\n\u001b[1;32m    290\u001b[0m \u001b[39mreturn\u001b[39;00m call\u001b[39m.\u001b[39mresult(), call\n",
      "File \u001b[0;32m~/Documents/Github/Sumquery-PDF-AiSummarizer/venv/lib/python3.8/site-packages/pymilvus/client/interceptor.py:35\u001b[0m, in \u001b[0;36m_GenericClientInterceptor.intercept_unary_unary\u001b[0;34m(self, continuation, client_call_details, request)\u001b[0m\n\u001b[1;32m     31\u001b[0m \u001b[39mdef\u001b[39;00m \u001b[39mintercept_unary_unary\u001b[39m(\u001b[39mself\u001b[39m, continuation: Callable, client_call_details: Any, request: Any):\n\u001b[1;32m     32\u001b[0m     new_details, new_request_iterator, postprocess \u001b[39m=\u001b[39m \u001b[39mself\u001b[39m\u001b[39m.\u001b[39m_fn(\n\u001b[1;32m     33\u001b[0m         client_call_details, \u001b[39miter\u001b[39m((request,))\n\u001b[1;32m     34\u001b[0m     )\n\u001b[0;32m---> 35\u001b[0m     response \u001b[39m=\u001b[39m continuation(new_details, \u001b[39mnext\u001b[39;49m(new_request_iterator))\n\u001b[1;32m     36\u001b[0m     \u001b[39mreturn\u001b[39;00m postprocess(response) \u001b[39mif\u001b[39;00m postprocess \u001b[39melse\u001b[39;00m response\n",
      "File \u001b[0;32m~/Documents/Github/Sumquery-PDF-AiSummarizer/venv/lib/python3.8/site-packages/grpc/_interceptor.py:274\u001b[0m, in \u001b[0;36m_UnaryUnaryMultiCallable._with_call.<locals>.continuation\u001b[0;34m(new_details, request)\u001b[0m\n\u001b[1;32m    269\u001b[0m (new_method, new_timeout, new_metadata, new_credentials,\n\u001b[1;32m    270\u001b[0m  new_wait_for_ready,\n\u001b[1;32m    271\u001b[0m  new_compression) \u001b[39m=\u001b[39m (_unwrap_client_call_details(\n\u001b[1;32m    272\u001b[0m      new_details, client_call_details))\n\u001b[1;32m    273\u001b[0m \u001b[39mtry\u001b[39;00m:\n\u001b[0;32m--> 274\u001b[0m     response, call \u001b[39m=\u001b[39m \u001b[39mself\u001b[39;49m\u001b[39m.\u001b[39;49m_thunk(new_method)\u001b[39m.\u001b[39;49mwith_call(\n\u001b[1;32m    275\u001b[0m         request,\n\u001b[1;32m    276\u001b[0m         timeout\u001b[39m=\u001b[39;49mnew_timeout,\n\u001b[1;32m    277\u001b[0m         metadata\u001b[39m=\u001b[39;49mnew_metadata,\n\u001b[1;32m    278\u001b[0m         credentials\u001b[39m=\u001b[39;49mnew_credentials,\n\u001b[1;32m    279\u001b[0m         wait_for_ready\u001b[39m=\u001b[39;49mnew_wait_for_ready,\n\u001b[1;32m    280\u001b[0m         compression\u001b[39m=\u001b[39;49mnew_compression)\n\u001b[1;32m    281\u001b[0m     \u001b[39mreturn\u001b[39;00m _UnaryOutcome(response, call)\n\u001b[1;32m    282\u001b[0m \u001b[39mexcept\u001b[39;00m grpc\u001b[39m.\u001b[39mRpcError \u001b[39mas\u001b[39;00m rpc_error:\n",
      "File \u001b[0;32m~/Documents/Github/Sumquery-PDF-AiSummarizer/venv/lib/python3.8/site-packages/grpc/_interceptor.py:301\u001b[0m, in \u001b[0;36m_UnaryUnaryMultiCallable.with_call\u001b[0;34m(self, request, timeout, metadata, credentials, wait_for_ready, compression)\u001b[0m\n\u001b[1;32m    292\u001b[0m \u001b[39mdef\u001b[39;00m \u001b[39mwith_call\u001b[39m(\n\u001b[1;32m    293\u001b[0m     \u001b[39mself\u001b[39m,\n\u001b[1;32m    294\u001b[0m     request: Any,\n\u001b[0;32m   (...)\u001b[0m\n\u001b[1;32m    299\u001b[0m     compression: Optional[grpc\u001b[39m.\u001b[39mCompression] \u001b[39m=\u001b[39m \u001b[39mNone\u001b[39;00m\n\u001b[1;32m    300\u001b[0m ) \u001b[39m-\u001b[39m\u001b[39m>\u001b[39m Tuple[Any, grpc\u001b[39m.\u001b[39mCall]:\n\u001b[0;32m--> 301\u001b[0m     \u001b[39mreturn\u001b[39;00m \u001b[39mself\u001b[39;49m\u001b[39m.\u001b[39;49m_with_call(request,\n\u001b[1;32m    302\u001b[0m                            timeout\u001b[39m=\u001b[39;49mtimeout,\n\u001b[1;32m    303\u001b[0m                            metadata\u001b[39m=\u001b[39;49mmetadata,\n\u001b[1;32m    304\u001b[0m                            credentials\u001b[39m=\u001b[39;49mcredentials,\n\u001b[1;32m    305\u001b[0m                            wait_for_ready\u001b[39m=\u001b[39;49mwait_for_ready,\n\u001b[1;32m    306\u001b[0m                            compression\u001b[39m=\u001b[39;49mcompression)\n",
      "File \u001b[0;32m~/Documents/Github/Sumquery-PDF-AiSummarizer/venv/lib/python3.8/site-packages/grpc/_interceptor.py:287\u001b[0m, in \u001b[0;36m_UnaryUnaryMultiCallable._with_call\u001b[0;34m(self, request, timeout, metadata, credentials, wait_for_ready, compression)\u001b[0m\n\u001b[1;32m    284\u001b[0m     \u001b[39mexcept\u001b[39;00m \u001b[39mException\u001b[39;00m \u001b[39mas\u001b[39;00m exception:  \u001b[39m# pylint:disable=broad-except\u001b[39;00m\n\u001b[1;32m    285\u001b[0m         \u001b[39mreturn\u001b[39;00m _FailureOutcome(exception, sys\u001b[39m.\u001b[39mexc_info()[\u001b[39m2\u001b[39m])\n\u001b[0;32m--> 287\u001b[0m call \u001b[39m=\u001b[39m \u001b[39mself\u001b[39;49m\u001b[39m.\u001b[39;49m_interceptor\u001b[39m.\u001b[39;49mintercept_unary_unary(continuation,\n\u001b[1;32m    288\u001b[0m                                                client_call_details,\n\u001b[1;32m    289\u001b[0m                                                request)\n\u001b[1;32m    290\u001b[0m \u001b[39mreturn\u001b[39;00m call\u001b[39m.\u001b[39mresult(), call\n",
      "File \u001b[0;32m~/Documents/Github/Sumquery-PDF-AiSummarizer/venv/lib/python3.8/site-packages/pymilvus/client/interceptor.py:35\u001b[0m, in \u001b[0;36m_GenericClientInterceptor.intercept_unary_unary\u001b[0;34m(self, continuation, client_call_details, request)\u001b[0m\n\u001b[1;32m     31\u001b[0m \u001b[39mdef\u001b[39;00m \u001b[39mintercept_unary_unary\u001b[39m(\u001b[39mself\u001b[39m, continuation: Callable, client_call_details: Any, request: Any):\n\u001b[1;32m     32\u001b[0m     new_details, new_request_iterator, postprocess \u001b[39m=\u001b[39m \u001b[39mself\u001b[39m\u001b[39m.\u001b[39m_fn(\n\u001b[1;32m     33\u001b[0m         client_call_details, \u001b[39miter\u001b[39m((request,))\n\u001b[1;32m     34\u001b[0m     )\n\u001b[0;32m---> 35\u001b[0m     response \u001b[39m=\u001b[39m continuation(new_details, \u001b[39mnext\u001b[39;49m(new_request_iterator))\n\u001b[1;32m     36\u001b[0m     \u001b[39mreturn\u001b[39;00m postprocess(response) \u001b[39mif\u001b[39;00m postprocess \u001b[39melse\u001b[39;00m response\n",
      "File \u001b[0;32m~/Documents/Github/Sumquery-PDF-AiSummarizer/venv/lib/python3.8/site-packages/grpc/_interceptor.py:274\u001b[0m, in \u001b[0;36m_UnaryUnaryMultiCallable._with_call.<locals>.continuation\u001b[0;34m(new_details, request)\u001b[0m\n\u001b[1;32m    269\u001b[0m (new_method, new_timeout, new_metadata, new_credentials,\n\u001b[1;32m    270\u001b[0m  new_wait_for_ready,\n\u001b[1;32m    271\u001b[0m  new_compression) \u001b[39m=\u001b[39m (_unwrap_client_call_details(\n\u001b[1;32m    272\u001b[0m      new_details, client_call_details))\n\u001b[1;32m    273\u001b[0m \u001b[39mtry\u001b[39;00m:\n\u001b[0;32m--> 274\u001b[0m     response, call \u001b[39m=\u001b[39m \u001b[39mself\u001b[39;49m\u001b[39m.\u001b[39;49m_thunk(new_method)\u001b[39m.\u001b[39;49mwith_call(\n\u001b[1;32m    275\u001b[0m         request,\n\u001b[1;32m    276\u001b[0m         timeout\u001b[39m=\u001b[39;49mnew_timeout,\n\u001b[1;32m    277\u001b[0m         metadata\u001b[39m=\u001b[39;49mnew_metadata,\n\u001b[1;32m    278\u001b[0m         credentials\u001b[39m=\u001b[39;49mnew_credentials,\n\u001b[1;32m    279\u001b[0m         wait_for_ready\u001b[39m=\u001b[39;49mnew_wait_for_ready,\n\u001b[1;32m    280\u001b[0m         compression\u001b[39m=\u001b[39;49mnew_compression)\n\u001b[1;32m    281\u001b[0m     \u001b[39mreturn\u001b[39;00m _UnaryOutcome(response, call)\n\u001b[1;32m    282\u001b[0m \u001b[39mexcept\u001b[39;00m grpc\u001b[39m.\u001b[39mRpcError \u001b[39mas\u001b[39;00m rpc_error:\n",
      "File \u001b[0;32m~/Documents/Github/Sumquery-PDF-AiSummarizer/venv/lib/python3.8/site-packages/grpc/_channel.py:1041\u001b[0m, in \u001b[0;36m_UnaryUnaryMultiCallable.with_call\u001b[0;34m(self, request, timeout, metadata, credentials, wait_for_ready, compression)\u001b[0m\n\u001b[1;32m   1032\u001b[0m \u001b[39mdef\u001b[39;00m \u001b[39mwith_call\u001b[39m(\n\u001b[1;32m   1033\u001b[0m     \u001b[39mself\u001b[39m,\n\u001b[1;32m   1034\u001b[0m     request: Any,\n\u001b[0;32m   (...)\u001b[0m\n\u001b[1;32m   1039\u001b[0m     compression: Optional[grpc\u001b[39m.\u001b[39mCompression] \u001b[39m=\u001b[39m \u001b[39mNone\u001b[39;00m\n\u001b[1;32m   1040\u001b[0m ) \u001b[39m-\u001b[39m\u001b[39m>\u001b[39m Tuple[Any, grpc\u001b[39m.\u001b[39mCall]:\n\u001b[0;32m-> 1041\u001b[0m     state, call, \u001b[39m=\u001b[39m \u001b[39mself\u001b[39;49m\u001b[39m.\u001b[39;49m_blocking(request, timeout, metadata, credentials,\n\u001b[1;32m   1042\u001b[0m                                   wait_for_ready, compression)\n\u001b[1;32m   1043\u001b[0m     \u001b[39mreturn\u001b[39;00m _end_unary_response_blocking(state, call, \u001b[39mTrue\u001b[39;00m, \u001b[39mNone\u001b[39;00m)\n",
      "File \u001b[0;32m~/Documents/Github/Sumquery-PDF-AiSummarizer/venv/lib/python3.8/site-packages/grpc/_channel.py:1017\u001b[0m, in \u001b[0;36m_UnaryUnaryMultiCallable._blocking\u001b[0;34m(self, request, timeout, metadata, credentials, wait_for_ready, compression)\u001b[0m\n\u001b[1;32m   1009\u001b[0m \u001b[39melse\u001b[39;00m:\n\u001b[1;32m   1010\u001b[0m     call \u001b[39m=\u001b[39m \u001b[39mself\u001b[39m\u001b[39m.\u001b[39m_channel\u001b[39m.\u001b[39msegregated_call(\n\u001b[1;32m   1011\u001b[0m         cygrpc\u001b[39m.\u001b[39mPropagationConstants\u001b[39m.\u001b[39mGRPC_PROPAGATE_DEFAULTS,\n\u001b[1;32m   1012\u001b[0m         \u001b[39mself\u001b[39m\u001b[39m.\u001b[39m_method, \u001b[39mNone\u001b[39;00m, _determine_deadline(deadline), metadata,\n\u001b[0;32m   (...)\u001b[0m\n\u001b[1;32m   1015\u001b[0m             \u001b[39mNone\u001b[39;00m,\n\u001b[1;32m   1016\u001b[0m         ),), \u001b[39mself\u001b[39m\u001b[39m.\u001b[39m_context)\n\u001b[0;32m-> 1017\u001b[0m     event \u001b[39m=\u001b[39m call\u001b[39m.\u001b[39;49mnext_event()\n\u001b[1;32m   1018\u001b[0m     _handle_event(event, state, \u001b[39mself\u001b[39m\u001b[39m.\u001b[39m_response_deserializer)\n\u001b[1;32m   1019\u001b[0m     \u001b[39mreturn\u001b[39;00m state, call\n",
      "File \u001b[0;32msrc/python/grpcio/grpc/_cython/_cygrpc/channel.pyx.pxi:338\u001b[0m, in \u001b[0;36mgrpc._cython.cygrpc.SegregatedCall.next_event\u001b[0;34m()\u001b[0m\n",
      "File \u001b[0;32msrc/python/grpcio/grpc/_cython/_cygrpc/channel.pyx.pxi:169\u001b[0m, in \u001b[0;36mgrpc._cython.cygrpc._next_call_event\u001b[0;34m()\u001b[0m\n",
      "File \u001b[0;32msrc/python/grpcio/grpc/_cython/_cygrpc/channel.pyx.pxi:163\u001b[0m, in \u001b[0;36mgrpc._cython.cygrpc._next_call_event\u001b[0;34m()\u001b[0m\n",
      "File \u001b[0;32msrc/python/grpcio/grpc/_cython/_cygrpc/completion_queue.pyx.pxi:78\u001b[0m, in \u001b[0;36mgrpc._cython.cygrpc._latent_event\u001b[0;34m()\u001b[0m\n",
      "File \u001b[0;32msrc/python/grpcio/grpc/_cython/_cygrpc/completion_queue.pyx.pxi:61\u001b[0m, in \u001b[0;36mgrpc._cython.cygrpc._internal_latent_event\u001b[0;34m()\u001b[0m\n",
      "File \u001b[0;32msrc/python/grpcio/grpc/_cython/_cygrpc/completion_queue.pyx.pxi:42\u001b[0m, in \u001b[0;36mgrpc._cython.cygrpc._next\u001b[0;34m()\u001b[0m\n",
      "\u001b[0;31mKeyboardInterrupt\u001b[0m: "
     ]
    }
   ],
   "source": [
    "\n",
    "from pymilvus import MilvusClient\n",
    "\n",
    "uri = \"https://in03-7ec3187cc8dad66.api.gcp-us-west1.zillizcloud.com\"\n",
    "token = \"971ba193222173e7b54cc937f5834d2bba7ecd27f800ee14facc1af243ec755e8a10be4ca9cd504444c515345c141b8eb7e791c4\"\n",
    "client = MilvusClient(\n",
    "    uri=uri, # Cluster endpoint obtained from the console\n",
    "    token=token\n",
    ")"
   ]
  },
  {
   "cell_type": "code",
   "execution_count": 12,
   "metadata": {},
   "outputs": [
    {
     "name": "stdout",
     "output_type": "stream",
     "text": [
      "Connecting to DB: https://in03-7ec3187cc8dad66.api.gcp-us-west1.zillizcloud.com\n",
      "Schema: {'auto_id': True, 'description': 'Nikhil', 'fields': [{'name': 'pk', 'description': '', 'type': <DataType.INT64: 5>, 'is_primary': True, 'auto_id': True}, {'name': 'text', 'description': '', 'type': <DataType.VARCHAR: 21>, 'params': {'max_length': 4096}}, {'name': 'vector_embeddings', 'description': '', 'type': <DataType.FLOAT_VECTOR: 101>, 'params': {'dim': 768}}]}\n",
      "Success!\n",
      "Collection name: PDF_Vector\n"
     ]
    }
   ],
   "source": [
    "from pymilvus import Milvus, DataType, CollectionSchema, FieldSchema\n",
    "\n",
    "\n",
    "# Create a Milvus client instance\n",
    "\n",
    "from pymilvus import MilvusClient,connections, utility\n",
    "\n",
    "uri = \"https://in03-7ec3187cc8dad66.api.gcp-us-west1.zillizcloud.com\"\n",
    "token = \"971ba193222173e7b54cc937f5834d2bba7ecd27f800ee14facc1af243ec755e8a10be4ca9cd504444c515345c141b8eb7e791c4\"\n",
    "\n",
    "\n",
    "connections.connect(\n",
    "    uri=uri, # Cluster endpoint obtained from the console\n",
    "    token=token\n",
    ")\n",
    "print(f\"Connecting to DB: {uri}\")\n",
    "\n",
    "\n",
    "\n",
    "# Define your Milvus collection name and dimension\n",
    "MILVUS_COLLECTION_NAME = \"PDF_Vector\"\n",
    "VECTOR_DIMENSION = 768  # Change this to the dimension of your vectors\n",
    "\n",
    "# Define the collection schema as a list of FieldSchema objects\n",
    "fields = [\n",
    "    FieldSchema(name=\"pk\", dtype=DataType.INT64, is_primary=True, auto_id=True),\n",
    "    FieldSchema(name=\"text\", dtype=DataType.VARCHAR,max_length=4096),  # Assuming text data\n",
    "    FieldSchema(name=\"vector_embeddings\", dtype=DataType.FLOAT_VECTOR, dim=VECTOR_DIMENSION),\n",
    "]\n",
    "\n",
    "# Create the collection with the specified schema\n",
    "schema = CollectionSchema(fields=fields, description=\"Nikhil\")\n",
    "collection = Collection(name=MILVUS_COLLECTION_NAME, schema=schema)\n",
    "print(f\"Schema: {schema}\")\n",
    "print(\"Success!\")\n",
    "\n",
    "# Print the collection information\n",
    "print(f\"Collection name: {collection.name}\")\n",
    "# print(f\"Collection dimension: {collection.dimension}\")\n"
   ]
  },
  {
   "cell_type": "code",
   "execution_count": 20,
   "metadata": {},
   "outputs": [],
   "source": [
    "connections.disconnect(\"defalut\")"
   ]
  }
 ],
 "metadata": {
  "kernelspec": {
   "display_name": "venv",
   "language": "python",
   "name": "python3"
  },
  "language_info": {
   "codemirror_mode": {
    "name": "ipython",
    "version": 3
   },
   "file_extension": ".py",
   "mimetype": "text/x-python",
   "name": "python",
   "nbconvert_exporter": "python",
   "pygments_lexer": "ipython3",
   "version": "3.8.10"
  }
 },
 "nbformat": 4,
 "nbformat_minor": 2
}
