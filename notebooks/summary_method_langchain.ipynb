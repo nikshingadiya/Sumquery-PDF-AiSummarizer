{
 "cells": [
  {
   "cell_type": "code",
   "execution_count": 4,
   "metadata": {},
   "outputs": [
    {
     "data": {
      "text/plain": [
       "True"
      ]
     },
     "execution_count": 4,
     "metadata": {},
     "output_type": "execute_result"
    }
   ],
   "source": [
    "from dotenv import load_dotenv\n",
    "load_dotenv()"
   ]
  },
  {
   "cell_type": "code",
   "execution_count": 1,
   "metadata": {},
   "outputs": [],
   "source": [
    "\n",
    "import time\n",
    "from PyPDF2 import PdfReader\n",
    "from PIL import Image\n",
    "\n",
    "import os\n",
    "\n",
    "\n",
    "# from langchain.embeddings.openai import OpenAIEmbeddings\n",
    "from langchain.embeddings.huggingface import HuggingFaceEmbeddings\n",
    "from langchain.text_splitter import CharacterTextSplitter\n",
    "from langchain.vectorstores import FAISS\n",
    "from langchain.chains.question_answering import load_qa_chain\n",
    "from langchain.llms import OpenAI\n",
    "from langchain.callbacks import get_openai_callback\n",
    "from langchain.chains.summarize import load_summarize_chain\n",
    "from langchain.docstore.document import Document\n",
    "import openai\n",
    "from langchain import PromptTemplate\n"
   ]
  },
  {
   "cell_type": "code",
   "execution_count": 2,
   "metadata": {},
   "outputs": [],
   "source": [
    "import io\n",
    "import requests\n",
    "from PyPDF2 import PdfReader\n",
    "headers = {'User-Agent': 'Mozilla/5.0 (X11; Windows; Windows x86_64) AppleWebKit/537.36 (KHTML, like Gecko) Chrome/103.0.5060.114 Safari/537.36'}\n",
    "\n",
    "url = 'https://services.google.com/fh/files/misc/practitioners_guide_to_mlops_whitepaper.pdf'\n",
    "response = requests.get(url=url, headers=headers, timeout=120)\n",
    "on_fly_mem_obj = io.BytesIO(response.content)\n",
    "pdf_file = PdfReader(on_fly_mem_obj)"
   ]
  },
  {
   "cell_type": "code",
   "execution_count": 7,
   "metadata": {},
   "outputs": [],
   "source": [
    "openai_api_key = os.environ.get(\"OPENAI_API_KEY\",None)"
   ]
  },
  {
   "cell_type": "code",
   "execution_count": 8,
   "metadata": {},
   "outputs": [],
   "source": [
    "text = \"\"\n",
    "for page in pdf_file.pages:\n",
    "    text += page.extract_text()"
   ]
  },
  {
   "cell_type": "code",
   "execution_count": 22,
   "metadata": {},
   "outputs": [
    {
     "name": "stderr",
     "output_type": "stream",
     "text": [
      "Retrying langchain.llms.openai.completion_with_retry.<locals>._completion_with_retry in 4.0 seconds as it raised Timeout: Request timed out: HTTPSConnectionPool(host='api.openai.com', port=443): Read timed out. (read timeout=600).\n"
     ]
    },
    {
     "name": "stdout",
     "output_type": "stream",
     "text": [
      "Summary\n",
      " This white paper provides a framework for MLOps, a continuous delivery and automation process for machine learning. It covers topics such as ML development, training operationalization, continuous training, model deployment, prediction serving, continuous monitoring, and data and model management. It outlines an MLOps framework that defines core processes and technical capabilities to help organizations establish mature MLOps practices for building and operationalizing ML systems. It also discusses the challenges organizations face when attempting to deploy ML at scale, such as lack of talent, integration issues, and deployment challenges. ML engineering is essential for building ML-enabled systems, and MLOps is a superset of software engineering that deals with the complexities of practical ML applications.\n"
     ]
    }
   ],
   "source": [
    "text_splitter = CharacterTextSplitter(\n",
    "separator=\"\\n\",\n",
    "chunk_size=1000,\n",
    "chunk_overlap=200,\n",
    "length_function=len\n",
    ")\n",
    "\n",
    "chunks = text_splitter.split_text(text)\n",
    "    \n",
    "# create docs\n",
    "docs = [Document(page_content=t) for t in chunks[:10]]\n",
    "llm = OpenAI(temperature=0, openai_api_key=openai_api_key)\n",
    "\n",
    "# show summarize doc\n",
    "chain = load_summarize_chain(llm, chain_type=\"map_reduce\")\n",
    "summarized_docs = chain.run(docs)\n",
    "print(\"Summary\")\n",
    "print(summarized_docs)\n"
   ]
  },
  {
   "cell_type": "code",
   "execution_count": 23,
   "metadata": {},
   "outputs": [
    {
     "name": "stdout",
     "output_type": "stream",
     "text": [
      " This white paper provides a framework for MLOps, a continuous delivery and automation process for machine learning. It covers topics such as ML development, training operationalization, continuous training, model deployment, prediction serving, continuous monitoring, and data and model management. It outlines an MLOps framework that defines core processes and technical capabilities to help organizations establish mature MLOps practices for building and operationalizing ML systems. It also discusses the challenges organizations face when attempting to deploy ML at scale, such as lack of talent, integration issues, and deployment challenges. ML engineering is essential for building ML-enabled systems, and MLOps is a superset of software engineering that deals with the complexities of practical ML applications.\n"
     ]
    }
   ],
   "source": [
    "print(summarized_docs,sep='\\n')"
   ]
  },
  {
   "cell_type": "code",
   "execution_count": 24,
   "metadata": {},
   "outputs": [],
   "source": [
    "def insert_line_break(text, words_per_line=10):\n",
    "    words = text.split()\n",
    "    formatted_text = \"\\n\".join(\" \".join(words[i:i+words_per_line]) for i in range(0, len(words), words_per_line))\n",
    "    return formatted_text"
   ]
  },
  {
   "cell_type": "code",
   "execution_count": 25,
   "metadata": {},
   "outputs": [
    {
     "data": {
      "text/markdown": [
       "This white paper provides a framework for MLOps, a continuous\n",
       "delivery and automation process for machine learning. It covers topics\n",
       "such as ML development, training operationalization, continuous training, model deployment,\n",
       "prediction serving, continuous monitoring, and data and model management. It\n",
       "outlines an MLOps framework that defines core processes and technical\n",
       "capabilities to help organizations establish mature MLOps practices for building\n",
       "and operationalizing ML systems. It also discusses the challenges organizations\n",
       "face when attempting to deploy ML at scale, such as\n",
       "lack of talent, integration issues, and deployment challenges. ML engineering\n",
       "is essential for building ML-enabled systems, and MLOps is a\n",
       "superset of software engineering that deals with the complexities of\n",
       "practical ML applications."
      ],
      "text/plain": [
       "<IPython.core.display.Markdown object>"
      ]
     },
     "execution_count": 25,
     "metadata": {},
     "output_type": "execute_result"
    }
   ],
   "source": [
    "formatted_text = insert_line_break(summarized_docs)\n",
    "\n",
    "# Display the formatted text as Markdown\n",
    "Markdown(formatted_text)"
   ]
  },
  {
   "cell_type": "code",
   "execution_count": null,
   "metadata": {},
   "outputs": [],
   "source": []
  }
 ],
 "metadata": {
  "kernelspec": {
   "display_name": "venv",
   "language": "python",
   "name": "python3"
  },
  "language_info": {
   "codemirror_mode": {
    "name": "ipython",
    "version": 3
   },
   "file_extension": ".py",
   "mimetype": "text/x-python",
   "name": "python",
   "nbconvert_exporter": "python",
   "pygments_lexer": "ipython3",
   "version": "3.8.10"
  }
 },
 "nbformat": 4,
 "nbformat_minor": 2
}
